{
 "cells": [
  {
   "cell_type": "code",
   "execution_count": 16,
   "metadata": {},
   "outputs": [
    {
     "name": "stdout",
     "output_type": "stream",
     "text": [
      "| name                   | #elements or shape   |\n",
      "|:-----------------------|:---------------------|\n",
      "| model                  | 37.3K                |\n",
      "|  fc                    |  0.2K                |\n",
      "|   fc.0                 |   98                 |\n",
      "|    fc.0.weight         |    (14, 7)           |\n",
      "|   fc.3                 |   98                 |\n",
      "|    fc.3.weight         |    (7, 14)           |\n",
      "|  Linear_More_1         |  18.6K               |\n",
      "|   Linear_More_1.weight |   (192, 96)          |\n",
      "|   Linear_More_1.bias   |   (192,)             |\n",
      "|  Linear_More_2         |  18.5K               |\n",
      "|   Linear_More_2.weight |   (96, 192)          |\n",
      "|   Linear_More_2.bias   |   (96,)              |\n"
     ]
    }
   ],
   "source": [
    "import torch\n",
    "import torch.nn as nn\n",
    "import torch.nn.functional as F\n",
    "import numpy as np\n",
    "from fvcore.nn import FlopCountAnalysis,parameter_count_table\n",
    "class Model(nn.Module):\n",
    "    \"\"\"\n",
    "    Just one Linear layer\n",
    "    \"\"\"\n",
    "    def __init__(self, channel=7,ratio=1):\n",
    "        super(Model, self).__init__()\n",
    "\n",
    "        self.avg_pool = nn.AdaptiveAvgPool1d(1) #innovation\n",
    "        self.fc = nn.Sequential(\n",
    "                nn.Linear(7,14, bias=False),\n",
    "                nn.Dropout(p=0.1),\n",
    "                nn.ReLU(inplace=True) ,\n",
    "                nn.Linear(14, 7, bias=False),\n",
    "                nn.Sigmoid()\n",
    "        )\n",
    "        self.seq_len = 96\n",
    "        self.pred_len = 96\n",
    "        self.Linear_More_1 = nn.Linear(self.seq_len,self.pred_len * 2)\n",
    "        self.Linear_More_2 = nn.Linear(self.pred_len*2,self.pred_len)\n",
    "        self.relu = nn.ReLU()\n",
    "        self.gelu = nn.GELU()    \n",
    "\n",
    "        self.drop = nn.Dropout(p=0.1)\n",
    "        # Use this line if you want to visualize the weights\n",
    "        # self.Linear.weight = nn.Parameter((1/self.seq_len)*torch.ones([self.pred_len,self.seq_len]))\n",
    "    def forward(self, x):\n",
    "        # x: [Batch, Input length, Channel]\n",
    "        # x = self.Linear(x.permute(0,2,1))\n",
    "        x = x.permute(0,2,1) # (B，L,C)=》(B,C,L)\n",
    "        b, c, l = x.size() # (B,C,L)\n",
    "        # y = self.avg_pool(x) # (B,C,L) 通过avg=》 (B,C,1)\n",
    "        # print(\"y\",y.shape)\n",
    "        y = self.avg_pool(x).view(b, c) # (B,C,L) 通过avg=》 (B,C,1)\n",
    "        # print(\"y\",y.shape)\n",
    "        #为了丢给Linear学习，需要view把数据展平开\n",
    "        # y = self.fc(y).view(b, c, 96)\n",
    "        \n",
    "        y = self.fc(y).view(b,c,1)\n",
    "\n",
    "        # print(\"y\",y.shape)\n",
    "        return (x * y).permute(0,2,1)\n",
    "model = Model()\n",
    "print(parameter_count_table(model))"
   ]
  },
  {
   "cell_type": "code",
   "execution_count": 17,
   "metadata": {},
   "outputs": [
    {
     "name": "stderr",
     "output_type": "stream",
     "text": [
      "Unsupported operator aten::adaptive_avg_pool1d encountered 1 time(s)\n",
      "Unsupported operator aten::sigmoid encountered 1 time(s)\n",
      "Unsupported operator aten::mul encountered 1 time(s)\n",
      "The following submodules of the model were never called during the trace of the graph. They may be unused, or they were accessed by direct calls to .forward() or via other python methods. In the latter case they will have zeros for statistics, though their statistics will still contribute to their parent calling module.\n",
      "Linear_More_1, Linear_More_2, drop, gelu, relu\n"
     ]
    },
    {
     "name": "stdout",
     "output_type": "stream",
     "text": [
      "FLOPs: 1568\n"
     ]
    }
   ],
   "source": [
    "'''\n",
    "计算FLOPs\n",
    "'''\n",
    "tensor=torch.randn(8,96,7)\n",
    "FLOPs = FlopCountAnalysis(model,tensor)\n",
    "print(\"FLOPs:\",FLOPs.total())"
   ]
  },
  {
   "cell_type": "code",
   "execution_count": 20,
   "metadata": {},
   "outputs": [
    {
     "name": "stdout",
     "output_type": "stream",
     "text": [
      "| name            | #elements or shape   |\n",
      "|:----------------|:---------------------|\n",
      "| model           | 69.8K                |\n",
      "|  Linear         |  69.8K               |\n",
      "|   Linear.weight |   (720, 96)          |\n",
      "|   Linear.bias   |   (720,)             |\n"
     ]
    }
   ],
   "source": [
    "class Model(nn.Module):\n",
    "    \"\"\"\n",
    "    Normalization-Linear\n",
    "    \"\"\"\n",
    "    def __init__(self):\n",
    "        super(Model, self).__init__()\n",
    "        self.seq_len = 96\n",
    "        self.pred_len = 720\n",
    "        self.Linear = nn.Linear(self.seq_len, self.pred_len)\n",
    "            # Use this line if you want to visualize the weights\n",
    "            # self.Linear.weight = nn.Parameter((1/self.seq_len)*torch.ones([self.pred_len,self.seq_len]))\n",
    "\n",
    "    def forward(self, x):\n",
    "        # x: [Batch, Input length, Channel]\n",
    "\n",
    "        x = self.Linear(x.permute(0,2,1)).permute(0,2,1)\n",
    "        \n",
    "        return x # [Batch, Output length, Channel]\n",
    "model = Model()\n",
    "\n",
    "\n",
    "\n",
    "print(parameter_count_table(model))"
   ]
  },
  {
   "cell_type": "code",
   "execution_count": 42,
   "metadata": {},
   "outputs": [
    {
     "data": {
      "text/plain": [
       "'\\n计算FLOPs\\n'"
      ]
     },
     "execution_count": 42,
     "metadata": {},
     "output_type": "execute_result"
    }
   ],
   "source": [
    "'''\n",
    "计算FLOPs\n",
    "'''\n",
    "# tensor=torch.randn(,96,7)\n",
    "result =model(tensor)\n",
    "# FLOPs = FlopCountAnalysis(model,tensor)\n",
    "# print(\"FLOPs:\",FLOPs.total())"
   ]
  },
  {
   "cell_type": "code",
   "execution_count": 49,
   "metadata": {},
   "outputs": [],
   "source": []
  }
 ],
 "metadata": {
  "interpreter": {
   "hash": "f57785bf53e86c458d31dd8512073d1ac6cae98f342ec9a1a9a8506681d63dcb"
  },
  "kernelspec": {
   "display_name": "Python 3.7.13 ('openmmlab')",
   "language": "python",
   "name": "python3"
  },
  "language_info": {
   "codemirror_mode": {
    "name": "ipython",
    "version": 3
   },
   "file_extension": ".py",
   "mimetype": "text/x-python",
   "name": "python",
   "nbconvert_exporter": "python",
   "pygments_lexer": "ipython3",
   "version": "3.7.13"
  },
  "orig_nbformat": 4
 },
 "nbformat": 4,
 "nbformat_minor": 2
}
